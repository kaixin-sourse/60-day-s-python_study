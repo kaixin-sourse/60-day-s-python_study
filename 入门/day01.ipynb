{
 "cells": [
  {
   "cell_type": "markdown",
   "metadata": {},
   "source": [
    "#### 知识点：\n",
    "变量的命名和定义\n",
    "debug工具的使用（pycharm和vscode）\n",
    "print函数\n",
    "题目: 定义三个变量 a, b, c，并分别将整数 1, 2, 3 赋值给它们。然后，使用 print() 函数将每个变量的值单独打印出来，每个值占一行。"
   ]
  },
  {
   "cell_type": "code",
   "execution_count": 5,
   "metadata": {},
   "outputs": [
    {
     "name": "stdout",
     "output_type": "stream",
     "text": [
      "1\n",
      "2\n",
      "3\n",
      "---------\n",
      "1\n",
      "2\n",
      "3\n"
     ]
    }
   ],
   "source": [
    "a = 1\n",
    "b = 2\n",
    "c = 3\n",
    "# 方法一\n",
    "print(a)\n",
    "print(b)\n",
    "print(c)\n",
    "print(\"---------\")\n",
    "# 方法二\n",
    "print(a,b,c,sep='\\n')"
   ]
  },
  {
   "cell_type": "markdown",
   "metadata": {},
   "source": [
    "#### 格式化字符串\n",
    "题目: 创建两个变量：name 存储你的名字（字符串，例如 \"小明\"），city 存储你所在的城市（字符串，例如 \"北京\"）。使用 f-string 将这两个变量组合成一句话并打印出来。\n",
    "\n",
    "输入: 无\n",
    "输出: (请注意输出格式中的逗号和空格)\n",
    "复制代码\n",
    "姓名: 小明, 城市: 北京"
   ]
  },
  {
   "cell_type": "code",
   "execution_count": 6,
   "metadata": {},
   "outputs": [
    {
     "name": "stdout",
     "output_type": "stream",
     "text": [
      "姓名：\"John\",城市：New York\n"
     ]
    }
   ],
   "source": [
    "name = \"John\"\n",
    "city = \"New York\"\n",
    "print(f'姓名：\"{name}\",城市：{city}')\n"
   ]
  },
  {
   "cell_type": "markdown",
   "metadata": {},
   "source": [
    "#### 变量的基础运算\n",
    "题目: 定义两个整数变量，num1 赋值为 20，num2 赋值为 8。计算这两个变量的和，并将结果存储在一个新的变量 a 中；计算这两个变量的商，叫做b；计算这两个变量的余数，叫做c。然后，使用 f-string 打印出类似 “20 加 8 的结果是：28” 的信息，分成三行打印。"
   ]
  },
  {
   "cell_type": "code",
   "execution_count": null,
   "metadata": {},
   "outputs": [],
   "source": [
    "num1 = 20\n",
    "num2 = 8\n",
    "a = num1 + num2\n",
    "b = num1 // num2\n",
    "c = num1 % num2\n",
    "print(f'{num1} + {num2} = {a}')\n",
    "print(f'{num1} // {num2} = {b}')\n",
    "print(f'{num1} % {num2} = {c}')\n"
   ]
  },
  {
   "cell_type": "markdown",
   "metadata": {},
   "source": [
    "● 题目: 定义两个浮点数变量，price 赋值为 19.9，discount 赋值为 0.8 (表示 8 折)。计算折扣后的价格，并将结果存储在变量 final_price 中；计算节省了多少钱，存储在变量 saved_amount 中。然后，使用 f-string 分两行打印出类似以下格式的信息：\n",
    "最终价格是: 15.92\n",
    "节省金额是: 3.98\n"
   ]
  },
  {
   "cell_type": "code",
   "execution_count": null,
   "metadata": {},
   "outputs": [],
   "source": [
    "price = 19.9\n",
    "discount = 0.8\n",
    "final_price = price * discount\n",
    "saved_amount = price - final_price\n",
    "print(f'最终价格是：{final_price}')\n",
    "print(f'节省的金额是：{saved_amount:.2f}')\n"
   ]
  }
 ],
 "metadata": {
  "kernelspec": {
   "display_name": "Python 3",
   "language": "python",
   "name": "python3"
  },
  "language_info": {
   "codemirror_mode": {
    "name": "ipython",
    "version": 3
   },
   "file_extension": ".py",
   "mimetype": "text/x-python",
   "name": "python",
   "nbconvert_exporter": "python",
   "pygments_lexer": "ipython3",
   "version": "3.11.5"
  }
 },
 "nbformat": 4,
 "nbformat_minor": 2
}
