{
 "cells": [
  {
   "cell_type": "markdown",
   "metadata": {},
   "source": [
    "# DAY 26 函数专题1\n",
    "\n",
    "##知识点回顾：\n",
    "\n",
    "1.函数的定义\n",
    "\n",
    "2.变量作用域：局部变量和全局变量\n",
    "\n",
    "3.函数的参数类型：位置参数、默认参数、不定参数\n",
    "\n",
    "4.传递参数的手段：关键词参数\n",
    "\n",
    "5.传递参数的顺序：同时出现三种参数类型时\n",
    "\n",
    "## 作业：\n",
    "\n",
    "### 题目1：计算圆的面积\n",
    "* 任务： 编写一个名为 calculate_circle_area 的函数，该函数接收圆的半径 radius 作为参数，并返回圆的面积。圆的面积 = π * radius² (可以使用 math.pi 作为 π 的值)\n",
    "* 要求：函数接收一个位置参数 radius。计算半径为5、0、-1时候的面积\n",
    "* 注意点：可以采取try-except 使函数变得更加稳健，如果传入的半径为负数，函数应该返回 0 (或者可以考虑引发一个ValueError，但为了简单起见，先返回0)。\n",
    "\n",
    "\n",
    "\n"
   ]
  },
  {
   "cell_type": "code",
   "execution_count": 1,
   "metadata": {},
   "outputs": [
    {
     "name": "stdout",
     "output_type": "stream",
     "text": [
      "78.53981633974483\n"
     ]
    }
   ],
   "source": [
    "import math\n",
    "\n",
    "def calculate_circle_area(radius):\n",
    "    try:\n",
    "        if radius < 0:\n",
    "            return 0\n",
    "        return math.pi * radius ** 2\n",
    "    except Exception:\n",
    "        return 0\n",
    "\n",
    "# 计算半径为5时候的面积\n",
    "print(calculate_circle_area(5))"
   ]
  },
  {
   "cell_type": "markdown",
   "metadata": {},
   "source": [
    "### 题目2：计算矩形的面积\n",
    "* 任务： 编写一个名为 calculate_rectangle_area 的函数，该函数接收矩形的长度 length 和宽度 width 作为参数，并返回矩形的面积。\n",
    "* 公式： 矩形面积 = length * width\n",
    "* 要求：函数接收两个位置参数 length 和 width。\n",
    "*  函数返回计算得到的面积。\n",
    "*  如果长度或宽度为负数，函数应该返回 0。\n"
   ]
  },
  {
   "cell_type": "code",
   "execution_count": null,
   "metadata": {},
   "outputs": [
    {
     "name": "stdout",
     "output_type": "stream",
     "text": [
      "15\n"
     ]
    }
   ],
   "source": [
    "def calculate_rectangle_area(length, width):\n",
    "    if length < 0 or width < 0:\n",
    "        return 0\n",
    "    return length * width\n",
    "\n",
    "print(calculate_rectangle_area(5, 3))  \n"
   ]
  },
  {
   "cell_type": "markdown",
   "metadata": {},
   "source": [
    "### 题目3：计算任意数量数字的平均值\n",
    "* 任务： 编写一个名为 calculate_average 的函数，该函数可以接收任意数量的数字作为参数（引入可变位置参数 (*args)），并返回它们的平均值。\n",
    "* 要求：使用 *args 来接收所有传入的数字。\n",
    "* 如果没有任何数字传入，函数应该返回 0。\n",
    "* 函数返回计算得到的平均值。\n"
   ]
  },
  {
   "cell_type": "code",
   "execution_count": 3,
   "metadata": {},
   "outputs": [
    {
     "name": "stdout",
     "output_type": "stream",
     "text": [
      "3.0\n"
     ]
    }
   ],
   "source": [
    "def calculate_average(*args):\n",
    "    if not args:\n",
    "        return 0\n",
    "    total = sum(args)\n",
    "    return total / len(args)\n",
    "print(calculate_average(1, 2, 3, 4, 5)) "
   ]
  },
  {
   "cell_type": "markdown",
   "metadata": {},
   "source": [
    "### 题目4：打印用户信息\n",
    "* 任务： 编写一个名为 print_user_info 的函数，该函数接收一个必需的参数 user_id，以及任意数量的额外用户信息（作为关键字参数）。\n",
    "* 要求：\n",
    "○user_id 是一个必需的位置参数。\n",
    "* 使用 **kwargs 来接收额外的用户信息。\n",
    "* 函数打印出用户ID，然后逐行打印所有提供的额外信息（键和值）。\n",
    "* 函数不需要返回值\n"
   ]
  },
  {
   "cell_type": "code",
   "execution_count": 4,
   "metadata": {},
   "outputs": [
    {
     "name": "stdout",
     "output_type": "stream",
     "text": [
      "用户ID: 1\n",
      "name: Alice\n",
      "age: 30\n",
      "city: New York\n",
      "None\n"
     ]
    }
   ],
   "source": [
    "def print_user_info(user_id, **kwargs):\n",
    "    print(f\"用户ID: {user_id}\")\n",
    "    for key, value in kwargs.items():\n",
    "        print(f\"{key}: {value}\")\n",
    "print(print_user_info(1, name=\"Alice\", age=30, city=\"New York\"))"
   ]
  },
  {
   "cell_type": "markdown",
   "metadata": {},
   "source": [
    "### 题目5：格式化几何图形描述\n",
    "* 任务： 编写一个名为 describe_shape 的函数，该函数接收图形的名称 shape_name (必需)，一个可选的 color (默认 “black”)，以及任意数量的描述该图形尺寸的关键字参数 (例如 radius=5 对于圆，length=10, width=4 对于矩形)。\n",
    "* 要求：shape_name 是必需的位置参数。\n",
    "○color 是一个可选参数，默认值为 “black”。\n",
    "* 使用 **kwargs 收集描述尺寸的参数。\n",
    "* 函数返回一个描述字符串，格式如下：\n",
    "* “A [color] [shape_name] with dimensions: [dim1_name]=[dim1_value], [dim2_name]=[dim2_value], …”如果 **kwargs 为空，则尺寸部分为 “with no specific dimensions.”\n"
   ]
  },
  {
   "cell_type": "code",
   "execution_count": 5,
   "metadata": {},
   "outputs": [],
   "source": [
    "def describe_shape(shape_name, color=\"black\", **kwargs):\n",
    "    if kwargs:\n",
    "        dimensions = ', '.join([f\"{key}={value}\" for key, value in kwargs.items()])\n",
    "        return f\"A {color} {shape_name} with dimensions: {dimensions}\"\n",
    "    else:\n",
    "        return f\"A {color} {shape_name} with no specific dimensions.\""
   ]
  },
  {
   "cell_type": "code",
   "execution_count": null,
   "metadata": {},
   "outputs": [],
   "source": []
  }
 ],
 "metadata": {
  "kernelspec": {
   "display_name": "vs",
   "language": "python",
   "name": "python3"
  },
  "language_info": {
   "codemirror_mode": {
    "name": "ipython",
    "version": 3
   },
   "file_extension": ".py",
   "mimetype": "text/x-python",
   "name": "python",
   "nbconvert_exporter": "python",
   "pygments_lexer": "ipython3",
   "version": "3.8.20"
  }
 },
 "nbformat": 4,
 "nbformat_minor": 2
}
